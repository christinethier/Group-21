{
 "cells": [
  {
   "cell_type": "code",
   "execution_count": 1,
   "metadata": {},
   "outputs": [],
   "source": [
    "import requests\n",
    "from bs4 import BeautifulSoup\n",
    "import re\n",
    "import selenium\n",
    "import time\n",
    "import pandas as pd\n",
    "import random\n",
    "import scraping_class\n",
    "from tqdm import tqdm\n",
    "from webdriver_manager.chrome import ChromeDriverManager\n",
    "from selenium.webdriver.common.keys import Keys\n",
    "import pandas as pd\n",
    "from selenium import webdriver\n",
    "from webdriver_manager.chrome import ChromeDriverManager\n",
    "from selenium.webdriver.common.keys import Keys\n",
    "import scraping_class\n",
    "from bs4 import BeautifulSoup\n",
    "import re\n",
    "import time"
   ]
  },
  {
   "cell_type": "code",
   "execution_count": 19,
   "metadata": {},
   "outputs": [
    {
     "name": "stderr",
     "output_type": "stream",
     "text": [
      "\n",
      "  0%|          | 0/999 [00:00<?, ?it/s]\u001b[A\n",
      "  0%|          | 1/999 [00:00<11:33,  1.44it/s]\u001b[A\n",
      "  0%|          | 2/999 [00:01<10:49,  1.53it/s]\u001b[A\n",
      "  0%|          | 3/999 [00:01<10:19,  1.61it/s]\u001b[A\n",
      "  0%|          | 4/999 [00:02<09:57,  1.67it/s]\u001b[A\n",
      "  1%|          | 5/999 [00:02<09:40,  1.71it/s]\u001b[A\n",
      "  1%|          | 6/999 [00:03<09:32,  1.73it/s]\u001b[A\n",
      "  1%|          | 7/999 [00:04<09:22,  1.76it/s]\u001b[A\n",
      "  1%|          | 8/999 [00:04<09:15,  1.78it/s]\u001b[A\n",
      "  1%|          | 9/999 [00:05<09:11,  1.79it/s]\u001b[A\n",
      "  1%|          | 10/999 [00:05<09:10,  1.80it/s]\u001b[A\n",
      "  1%|          | 11/999 [00:06<09:09,  1.80it/s]\u001b[A\n",
      "  1%|          | 12/999 [00:06<09:06,  1.81it/s]\u001b[A\n",
      "  1%|▏         | 13/999 [00:07<09:07,  1.80it/s]\u001b[A\n",
      "  1%|▏         | 14/999 [00:07<09:06,  1.80it/s]\u001b[A\n",
      "  2%|▏         | 15/999 [00:08<09:04,  1.81it/s]\u001b[A\n",
      "  2%|▏         | 16/999 [00:08<09:07,  1.79it/s]\u001b[A\n",
      "  2%|▏         | 17/999 [00:09<09:12,  1.78it/s]\u001b[A\n",
      "  2%|▏         | 18/999 [00:10<09:08,  1.79it/s]\u001b[A\n",
      "  2%|▏         | 19/999 [00:10<09:05,  1.80it/s]\u001b[A\n",
      "  2%|▏         | 20/999 [00:11<09:09,  1.78it/s]\u001b[A\n",
      "  2%|▏         | 21/999 [00:11<09:04,  1.79it/s]\u001b[A\n",
      "  2%|▏         | 22/999 [00:12<09:03,  1.80it/s]\u001b[A\n",
      "  2%|▏         | 23/999 [00:12<09:01,  1.80it/s]\u001b[A\n",
      "  2%|▏         | 24/999 [00:13<08:58,  1.81it/s]\u001b[A\n",
      "  3%|▎         | 25/999 [00:14<09:09,  1.77it/s]\u001b[A\n",
      "  3%|▎         | 26/999 [00:14<09:19,  1.74it/s]\u001b[A\n",
      "  3%|▎         | 27/999 [00:15<09:12,  1.76it/s]\u001b[A\n",
      "  3%|▎         | 28/999 [00:15<09:08,  1.77it/s]\u001b[A\n",
      "  3%|▎         | 29/999 [00:16<09:04,  1.78it/s]\u001b[A\n",
      "  3%|▎         | 30/999 [00:16<09:02,  1.79it/s]\u001b[A\n",
      "  3%|▎         | 31/999 [00:17<09:00,  1.79it/s]\u001b[A\n",
      "  3%|▎         | 32/999 [00:17<09:03,  1.78it/s]\u001b[A\n",
      "  3%|▎         | 33/999 [00:18<08:57,  1.80it/s]\u001b[A\n",
      "  3%|▎         | 34/999 [00:19<08:55,  1.80it/s]\u001b[A\n",
      "  4%|▎         | 35/999 [00:19<08:54,  1.80it/s]\u001b[A\n",
      "  4%|▎         | 36/999 [00:20<08:52,  1.81it/s]\u001b[A\n",
      "  4%|▎         | 37/999 [00:20<08:48,  1.82it/s]\u001b[A\n",
      "  4%|▍         | 38/999 [00:21<08:47,  1.82it/s]\u001b[A\n",
      "  4%|▍         | 39/999 [00:21<08:46,  1.82it/s]\u001b[A\n",
      "  4%|▍         | 40/999 [00:22<08:44,  1.83it/s]\u001b[A\n",
      "  4%|▍         | 41/999 [00:22<08:48,  1.81it/s]\u001b[A\n",
      "  4%|▍         | 42/999 [00:23<08:52,  1.80it/s]\u001b[A\n",
      "  4%|▍         | 43/999 [00:24<08:50,  1.80it/s]\u001b[A\n",
      "  4%|▍         | 44/999 [00:24<08:51,  1.80it/s]\u001b[A\n",
      "  5%|▍         | 45/999 [00:25<08:48,  1.80it/s]\u001b[A\n",
      "  5%|▍         | 46/999 [00:25<08:48,  1.80it/s]\u001b[A\n",
      "  5%|▍         | 47/999 [00:26<08:45,  1.81it/s]\u001b[A\n",
      "  5%|▍         | 48/999 [00:26<08:43,  1.82it/s]\u001b[A\n",
      "  5%|▍         | 49/999 [00:27<08:41,  1.82it/s]\u001b[A\n",
      "  5%|▌         | 50/999 [00:27<08:38,  1.83it/s]\u001b[A\n",
      "  5%|▌         | 51/999 [00:28<08:39,  1.82it/s]\u001b[A\n",
      "  5%|▌         | 52/999 [00:28<08:43,  1.81it/s]\u001b[A\n",
      "  5%|▌         | 53/999 [00:29<08:42,  1.81it/s]\u001b[A\n",
      "  5%|▌         | 54/999 [00:30<08:43,  1.80it/s]\u001b[A\n",
      "  6%|▌         | 55/999 [00:30<08:41,  1.81it/s]\u001b[A\n",
      "  6%|▌         | 56/999 [00:31<08:44,  1.80it/s]\u001b[A\n",
      "  6%|▌         | 57/999 [00:31<08:43,  1.80it/s]\u001b[A\n",
      "  6%|▌         | 58/999 [00:32<08:45,  1.79it/s]\u001b[A\n",
      "  6%|▌         | 59/999 [00:32<08:45,  1.79it/s]\u001b[A\n",
      "  6%|▌         | 60/999 [00:33<08:45,  1.79it/s]\u001b[A\n",
      "  6%|▌         | 61/999 [00:34<08:42,  1.79it/s]\u001b[A\n",
      "  6%|▌         | 62/999 [00:34<08:43,  1.79it/s]\u001b[A\n",
      "  6%|▋         | 63/999 [00:35<08:43,  1.79it/s]\u001b[A\n",
      "  6%|▋         | 64/999 [00:35<08:43,  1.79it/s]\u001b[A\n",
      "  7%|▋         | 65/999 [00:36<08:40,  1.79it/s]\u001b[A\n",
      "  7%|▋         | 66/999 [00:36<08:42,  1.79it/s]\u001b[A\n",
      "  7%|▋         | 67/999 [00:37<08:45,  1.77it/s]\u001b[A\n",
      "  7%|▋         | 68/999 [00:37<08:44,  1.77it/s]\u001b[A\n",
      "  7%|▋         | 69/999 [00:38<08:40,  1.79it/s]\u001b[A\n",
      "  7%|▋         | 70/999 [00:39<08:35,  1.80it/s]\u001b[A\n",
      "  7%|▋         | 71/999 [00:39<08:34,  1.80it/s]\u001b[A\n",
      "  7%|▋         | 72/999 [00:40<08:42,  1.78it/s]\u001b[A\n",
      "  7%|▋         | 73/999 [00:40<08:42,  1.77it/s]\u001b[A\n",
      "  7%|▋         | 74/999 [00:41<08:37,  1.79it/s]\u001b[A\n",
      "  8%|▊         | 75/999 [00:41<08:33,  1.80it/s]\u001b[A\n",
      "  8%|▊         | 76/999 [00:42<08:30,  1.81it/s]\u001b[A\n",
      "  8%|▊         | 77/999 [00:42<08:30,  1.81it/s]\u001b[A\n",
      "  8%|▊         | 78/999 [00:43<08:30,  1.80it/s]\u001b[A\n",
      "  8%|▊         | 79/999 [00:44<08:31,  1.80it/s]\u001b[A\n",
      "  8%|▊         | 80/999 [00:44<08:31,  1.80it/s]\u001b[A\n",
      "  8%|▊         | 81/999 [00:45<08:32,  1.79it/s]\u001b[A\n",
      "  8%|▊         | 82/999 [00:45<08:31,  1.79it/s]\u001b[A\n",
      "  8%|▊         | 83/999 [00:46<08:31,  1.79it/s]\u001b[A\n",
      "  8%|▊         | 84/999 [00:46<08:35,  1.77it/s]\u001b[A\n",
      "  9%|▊         | 85/999 [00:47<08:31,  1.79it/s]\u001b[A\n",
      "  9%|▊         | 86/999 [00:47<08:29,  1.79it/s]\u001b[A\n",
      "  9%|▊         | 87/999 [00:48<08:33,  1.78it/s]\u001b[A\n",
      "  9%|▉         | 88/999 [00:49<08:29,  1.79it/s]\u001b[A\n",
      "  9%|▉         | 89/999 [00:49<08:27,  1.79it/s]\u001b[A\n",
      "  9%|▉         | 90/999 [00:50<08:27,  1.79it/s]\u001b[A\n",
      "  9%|▉         | 91/999 [00:50<08:23,  1.80it/s]\u001b[A\n",
      "  9%|▉         | 92/999 [00:51<08:23,  1.80it/s]\u001b[A\n",
      "  9%|▉         | 93/999 [00:51<08:25,  1.79it/s]\u001b[A\n",
      "  9%|▉         | 94/999 [00:52<08:28,  1.78it/s]\u001b[A\n",
      " 10%|▉         | 95/999 [00:53<08:28,  1.78it/s]\u001b[A\n",
      " 10%|▉         | 96/999 [00:53<08:27,  1.78it/s]\u001b[A\n",
      " 10%|▉         | 97/999 [00:54<08:27,  1.78it/s]\u001b[A\n",
      " 10%|▉         | 98/999 [00:54<08:22,  1.79it/s]\u001b[A\n",
      " 10%|▉         | 99/999 [00:55<08:19,  1.80it/s]\u001b[A\n",
      " 10%|█         | 100/999 [00:55<08:18,  1.80it/s]\u001b[A\n",
      " 10%|█         | 101/999 [00:56<08:16,  1.81it/s]\u001b[A\n",
      " 10%|█         | 102/999 [00:56<08:19,  1.79it/s]\u001b[A\n",
      " 10%|█         | 103/999 [00:57<08:17,  1.80it/s]\u001b[A\n",
      " 10%|█         | 104/999 [00:57<08:14,  1.81it/s]\u001b[A\n",
      " 11%|█         | 105/999 [00:58<08:17,  1.80it/s]\u001b[A\n",
      " 11%|█         | 106/999 [00:59<08:16,  1.80it/s]\u001b[A\n",
      " 11%|█         | 107/999 [00:59<08:19,  1.79it/s]\u001b[A\n",
      " 11%|█         | 108/999 [01:00<08:15,  1.80it/s]\u001b[A\n",
      " 11%|█         | 109/999 [01:00<08:13,  1.80it/s]\u001b[A\n",
      " 11%|█         | 110/999 [01:01<08:12,  1.81it/s]\u001b[A\n",
      " 11%|█         | 111/999 [01:01<08:13,  1.80it/s]\u001b[A\n",
      " 11%|█         | 112/999 [01:02<08:14,  1.79it/s]\u001b[A\n",
      " 11%|█▏        | 113/999 [01:03<08:11,  1.80it/s]\u001b[A\n",
      " 11%|█▏        | 114/999 [01:03<08:09,  1.81it/s]\u001b[A\n",
      " 12%|█▏        | 115/999 [01:04<08:08,  1.81it/s]\u001b[A\n",
      " 12%|█▏        | 116/999 [01:04<08:07,  1.81it/s]\u001b[A\n",
      " 12%|█▏        | 117/999 [01:05<08:10,  1.80it/s]\u001b[A\n",
      " 12%|█▏        | 118/999 [01:05<08:12,  1.79it/s]\u001b[A\n",
      " 12%|█▏        | 119/999 [01:06<08:09,  1.80it/s]\u001b[A\n",
      " 12%|█▏        | 120/999 [01:06<08:07,  1.80it/s]\u001b[A\n",
      " 12%|█▏        | 121/999 [01:07<08:21,  1.75it/s]\u001b[A\n",
      " 12%|█▏        | 122/999 [01:08<08:19,  1.75it/s]\u001b[A\n",
      " 12%|█▏        | 123/999 [01:08<08:19,  1.75it/s]\u001b[A\n",
      " 12%|█▏        | 124/999 [01:09<08:15,  1.77it/s]\u001b[A\n",
      " 13%|█▎        | 125/999 [01:09<08:14,  1.77it/s]\u001b[A\n",
      " 13%|█▎        | 126/999 [01:10<08:10,  1.78it/s]\u001b[A\n",
      " 13%|█▎        | 127/999 [01:10<08:06,  1.79it/s]\u001b[A\n",
      " 13%|█▎        | 128/999 [01:11<08:04,  1.80it/s]\u001b[A\n",
      " 13%|█▎        | 129/999 [01:11<08:02,  1.80it/s]\u001b[A\n",
      " 13%|█▎        | 130/999 [01:12<08:01,  1.80it/s]\u001b[A\n",
      " 13%|█▎        | 131/999 [01:13<08:15,  1.75it/s]\u001b[A\n",
      " 13%|█▎        | 132/999 [01:13<08:28,  1.70it/s]\u001b[A\n",
      " 13%|█▎        | 133/999 [01:14<08:31,  1.69it/s]\u001b[A"
     ]
    },
    {
     "ename": "KeyboardInterrupt",
     "evalue": "",
     "output_type": "error",
     "traceback": [
      "\u001b[0;31m---------------------------------------------------------------------------\u001b[0m",
      "\u001b[0;31mKeyboardInterrupt\u001b[0m                         Traceback (most recent call last)",
      "\u001b[0;32m<ipython-input-19-18bfb1698bd9>\u001b[0m in \u001b[0;36m<module>\u001b[0;34m\u001b[0m\n\u001b[1;32m     29\u001b[0m     \u001b[0;32mreturn\u001b[0m \u001b[0mlinks\u001b[0m\u001b[0;34m\u001b[0m\u001b[0;34m\u001b[0m\u001b[0m\n\u001b[1;32m     30\u001b[0m \u001b[0;34m\u001b[0m\u001b[0m\n\u001b[0;32m---> 31\u001b[0;31m \u001b[0mtest\u001b[0m \u001b[0;34m=\u001b[0m \u001b[0mget_links\u001b[0m\u001b[0;34m(\u001b[0m\u001b[0;34m)\u001b[0m\u001b[0;34m\u001b[0m\u001b[0;34m\u001b[0m\u001b[0m\n\u001b[0m",
      "\u001b[0;32m<ipython-input-19-18bfb1698bd9>\u001b[0m in \u001b[0;36mget_links\u001b[0;34m()\u001b[0m\n\u001b[1;32m     17\u001b[0m     \u001b[0mlinks\u001b[0m \u001b[0;34m=\u001b[0m \u001b[0;34m[\u001b[0m\u001b[0;34m]\u001b[0m\u001b[0;34m\u001b[0m\u001b[0;34m\u001b[0m\u001b[0m\n\u001b[1;32m     18\u001b[0m     \u001b[0;32mfor\u001b[0m \u001b[0mi\u001b[0m \u001b[0;32min\u001b[0m \u001b[0mtqdm\u001b[0m\u001b[0;34m(\u001b[0m\u001b[0mrange\u001b[0m\u001b[0;34m(\u001b[0m\u001b[0;36m1\u001b[0m\u001b[0;34m,\u001b[0m \u001b[0;36m1000\u001b[0m\u001b[0;34m)\u001b[0m\u001b[0;34m)\u001b[0m\u001b[0;34m:\u001b[0m\u001b[0;34m\u001b[0m\u001b[0;34m\u001b[0m\u001b[0m\n\u001b[0;32m---> 19\u001b[0;31m         \u001b[0mresponse\u001b[0m\u001b[0;34m,\u001b[0m \u001b[0mcall_id\u001b[0m \u001b[0;34m=\u001b[0m \u001b[0mconnector\u001b[0m\u001b[0;34m.\u001b[0m\u001b[0mget\u001b[0m\u001b[0;34m(\u001b[0m\u001b[0;34mf'https://www.dn.no/smak/vinsok?p={i}&price=0%5C%20%5C-%5C%20149'\u001b[0m\u001b[0;34m,\u001b[0m \u001b[0;34m'mapping'\u001b[0m\u001b[0;34m)\u001b[0m\u001b[0;34m\u001b[0m\u001b[0;34m\u001b[0m\u001b[0m\n\u001b[0m\u001b[1;32m     20\u001b[0m         \u001b[0mlink_locations\u001b[0m \u001b[0;34m=\u001b[0m \u001b[0mresponse\u001b[0m\u001b[0;34m.\u001b[0m\u001b[0mtext\u001b[0m\u001b[0;34m.\u001b[0m\u001b[0msplit\u001b[0m\u001b[0;34m(\u001b[0m\u001b[0;34m'href=\"'\u001b[0m\u001b[0;34m)\u001b[0m\u001b[0;34m[\u001b[0m\u001b[0;36m1\u001b[0m\u001b[0;34m:\u001b[0m\u001b[0;34m]\u001b[0m\u001b[0;34m\u001b[0m\u001b[0;34m\u001b[0m\u001b[0m\n\u001b[1;32m     21\u001b[0m         \u001b[0;32mfor\u001b[0m \u001b[0mlink\u001b[0m \u001b[0;32min\u001b[0m \u001b[0mlink_locations\u001b[0m\u001b[0;34m:\u001b[0m\u001b[0;34m\u001b[0m\u001b[0;34m\u001b[0m\u001b[0m\n",
      "\u001b[0;32m~/opt/anaconda3/lib/python3.7/site-packages/scraping_class/scraping_class.py\u001b[0m in \u001b[0;36mget\u001b[0;34m(self, url, project_name, params)\u001b[0m\n\u001b[1;32m    312\u001b[0m             \u001b[0;31m# for loop defining number of retries with the requests method.\u001b[0m\u001b[0;34m\u001b[0m\u001b[0;34m\u001b[0m\u001b[0;34m\u001b[0m\u001b[0m\n\u001b[1;32m    313\u001b[0m             \u001b[0;32mfor\u001b[0m \u001b[0m_\u001b[0m \u001b[0;32min\u001b[0m \u001b[0mrange\u001b[0m\u001b[0;34m(\u001b[0m\u001b[0mself\u001b[0m\u001b[0;34m.\u001b[0m\u001b[0mn_tries\u001b[0m\u001b[0;34m)\u001b[0m\u001b[0;34m:\u001b[0m\u001b[0;34m\u001b[0m\u001b[0;34m\u001b[0m\u001b[0m\n\u001b[0;32m--> 314\u001b[0;31m                 \u001b[0mratelimit\u001b[0m\u001b[0;34m(\u001b[0m\u001b[0;34m)\u001b[0m\u001b[0;34m\u001b[0m\u001b[0;34m\u001b[0m\u001b[0m\n\u001b[0m\u001b[1;32m    315\u001b[0m                 \u001b[0mt\u001b[0m \u001b[0;34m=\u001b[0m \u001b[0mtime\u001b[0m\u001b[0;34m.\u001b[0m\u001b[0mtime\u001b[0m\u001b[0;34m(\u001b[0m\u001b[0;34m)\u001b[0m\u001b[0;34m\u001b[0m\u001b[0;34m\u001b[0m\u001b[0m\n\u001b[1;32m    316\u001b[0m                 \u001b[0;32mtry\u001b[0m\u001b[0;34m:\u001b[0m  \u001b[0;31m# error handling\u001b[0m\u001b[0;34m\u001b[0m\u001b[0;34m\u001b[0m\u001b[0m\n",
      "\u001b[0;32m~/opt/anaconda3/lib/python3.7/site-packages/scraping_class/scraping_class.py\u001b[0m in \u001b[0;36mratelimit\u001b[0;34m(duration)\u001b[0m\n\u001b[1;32m    166\u001b[0m \u001b[0;32mdef\u001b[0m \u001b[0mratelimit\u001b[0m\u001b[0;34m(\u001b[0m\u001b[0mduration\u001b[0m\u001b[0;34m=\u001b[0m\u001b[0;36m0.5\u001b[0m\u001b[0;34m)\u001b[0m\u001b[0;34m:\u001b[0m\u001b[0;34m\u001b[0m\u001b[0;34m\u001b[0m\u001b[0m\n\u001b[1;32m    167\u001b[0m     \u001b[0;34m\"A function that handles the rate of your calls.\"\u001b[0m\u001b[0;34m\u001b[0m\u001b[0;34m\u001b[0m\u001b[0m\n\u001b[0;32m--> 168\u001b[0;31m     \u001b[0mtime\u001b[0m\u001b[0;34m.\u001b[0m\u001b[0msleep\u001b[0m\u001b[0;34m(\u001b[0m\u001b[0mduration\u001b[0m\u001b[0;34m)\u001b[0m\u001b[0;34m\u001b[0m\u001b[0;34m\u001b[0m\u001b[0m\n\u001b[0m\u001b[1;32m    169\u001b[0m \u001b[0;34m\u001b[0m\u001b[0m\n\u001b[1;32m    170\u001b[0m \u001b[0;34m\u001b[0m\u001b[0m\n",
      "\u001b[0;31mKeyboardInterrupt\u001b[0m: "
     ]
    }
   ],
   "source": [
    "logfile = 'log_test.csv'\n",
    "connector = scraping_class.Connector(logfile)\n",
    "\n",
    "def get_links(): \n",
    "    # Connect to the url: \n",
    "    #response, call_id = connector.get(category_url, 'mapping_test')\n",
    "    \n",
    "    # Find the last page number: \n",
    "    #page_number_link_locations = response.text.split('Page number ')[1:]\n",
    "    #page_numbers = []\n",
    "    #for no in page_number_link_locations:\n",
    "    #    no = no.split('\"')[0]\n",
    "    #    page_numbers.append(no)\n",
    "    #last_page_no = int(page_numbers[-1])\n",
    "    \n",
    "    # Fetch the review links: \n",
    "    links = []  \n",
    "    for i in tqdm(range(1, 1000)): \n",
    "        response, call_id = connector.get(f'https://www.dn.no/smak/vinsok?p={i}&price=0%5C%20%5C-%5C%20149', 'mapping')\n",
    "        link_locations = response.text.split('href=\"')[1:]\n",
    "        for link in link_locations:\n",
    "            link = link.split('\"')[0]\n",
    "            links.append(link)\n",
    "    links = [url+link for link in links if '/vin/' in link] \n",
    "    \n",
    "    # Remove duplicates\n",
    "    links = list(dict.fromkeys(links))\n",
    "    \n",
    "    return links\n",
    "\n",
    "test = get_links()\n"
   ]
  },
  {
   "cell_type": "code",
   "execution_count": 71,
   "metadata": {},
   "outputs": [
    {
     "name": "stderr",
     "output_type": "stream",
     "text": [
      "[WDM] - Current google-chrome version is 84.0.4147\n",
      "[WDM] - Get LATEST driver version for 84.0.4147\n",
      "[WDM] - Driver [/Users/Caroline/.wdm/drivers/chromedriver/mac64/84.0.4147.30/chromedriver] found in cache\n"
     ]
    },
    {
     "name": "stdout",
     "output_type": "stream",
     "text": [
      " \n"
     ]
    }
   ],
   "source": [
    "url = 'https://www.dn.no/smak/vinsok?p=2&price=0%5C%20%5C-%5C%20149'\n",
    "driver = webdriver.Chrome(ChromeDriverManager().install())\n",
    "driver.get(url)\n",
    "soup = BeautifulSoup(driver.page_source,'html')\n",
    "\n",
    "table_nodes = soup.find_all('div', {'class':'vrs-article__body'})"
   ]
  },
  {
   "cell_type": "code",
   "execution_count": 63,
   "metadata": {},
   "outputs": [],
   "source": [
    "def parse_html_tables(table_node): \n",
    "    #table_headers = table_node.thead.find_all('th')\n",
    "    #table_headers = [col['aria-label'] for col in table_headers]\n",
    "\n",
    "    table_body = table_node.tbody\n",
    "    table_rows = table_body.find_all('tr')\n",
    "    \n",
    "    # This function extracts the information from the child and ensures the right format:\n",
    "    import numpy as np\n",
    "    def convert_value_text(value_node):\n",
    "        if value_node.name == 'th': \n",
    "            return value_node.text\n",
    "        else: # assumes node is td\n",
    "            try: \n",
    "                return str(value_node.text)\n",
    "            except: \n",
    "                return np.nan\n",
    "    \n",
    "    # This finds the children and extracts the values from all of the rows:\n",
    "    row_list = []\n",
    "    for row in range(len(table_rows)): \n",
    "        lst = list(table_rows[row].children)\n",
    "        inner_list = []\n",
    "        for col in range(len(lst)): \n",
    "            child = lst[col]\n",
    "            child = convert_value_text(child)\n",
    "            inner_list.append(child)\n",
    "        row_list.append(inner_list)\n",
    "    \n",
    "    # This converts the list of lists to a dataframe:\n",
    "    import pandas as pd\n",
    "    #df = pd.DataFrame(row_list, columns=table_headers)\n",
    "    return row_list"
   ]
  },
  {
   "cell_type": "code",
   "execution_count": 84,
   "metadata": {},
   "outputs": [
    {
     "name": "stderr",
     "output_type": "stream",
     "text": [
      "[WDM] - Current google-chrome version is 84.0.4147\n",
      "[WDM] - Get LATEST driver version for 84.0.4147\n",
      "[WDM] - Driver [/Users/Caroline/.wdm/drivers/chromedriver/mac64/84.0.4147.30/chromedriver] found in cache\n"
     ]
    },
    {
     "name": "stdout",
     "output_type": "stream",
     "text": [
      " \n"
     ]
    }
   ],
   "source": [
    "url = 'https://www.dn.no/smak/vinsok?p=2&price=0%5C%20%5C-%5C%20149'\n",
    "driver = webdriver.Chrome(ChromeDriverManager().install())\n",
    "driver.get(url)\n",
    "time.sleep(5)\n",
    "htmlSource = driver.page_source"
   ]
  },
  {
   "cell_type": "code",
   "execution_count": null,
   "metadata": {},
   "outputs": [],
   "source": [
    "links_names = []\n",
    "link_locations = htmlSource.split('href=\"')[1:]\n",
    "for link in link_locations:\n",
    "    link = link.split('</a>')[0]\n",
    "    links_names.append(link)\n",
    "links_names = [link for link in links_names if '/vin/' in link] \n",
    "links_names = list(dict.fromkeys(links_names))\n",
    "links = []\n",
    "names = []\n",
    "for link in links_names:\n",
    "    split = link.split('>')[0]\n",
    "    name = link.split('>')[1]\n",
    "    links.append(split)\n",
    "    names.append(name)"
   ]
  },
  {
   "cell_type": "code",
   "execution_count": 44,
   "metadata": {},
   "outputs": [
    {
     "name": "stderr",
     "output_type": "stream",
     "text": [
      "[WDM] - Current google-chrome version is 84.0.4147\n",
      "[WDM] - Get LATEST driver version for 84.0.4147\n",
      "[WDM] - Driver [/Users/Caroline/.wdm/drivers/chromedriver/mac64/84.0.4147.30/chromedriver] found in cache\n"
     ]
    },
    {
     "name": "stdout",
     "output_type": "stream",
     "text": [
      " \n"
     ]
    },
    {
     "name": "stderr",
     "output_type": "stream",
     "text": [
      "100%|██████████| 9/9 [00:52<00:00,  5.78s/it]\n"
     ]
    },
    {
     "data": {
      "text/plain": [
       "[]"
      ]
     },
     "execution_count": 44,
     "metadata": {},
     "output_type": "execute_result"
    }
   ],
   "source": [
    "# Test samlet\n",
    "\n",
    "def retrive_names_and_links():\n",
    "    driver = webdriver.Chrome(ChromeDriverManager().install())\n",
    "    links_names = []\n",
    "    links = []\n",
    "    names = []\n",
    "\n",
    "    for i in tqdm(range(1, 10)): # Change the limit of the range\n",
    "        url = f'https://www.dn.no/smak/vinsok?p={i}&price=0%5C%20%5C-%5C%20149'\n",
    "        driver.get(url)\n",
    "        time.sleep(5)\n",
    "        htmlSource = driver.page_source\n",
    "        link_locations = htmlSource.split('href=\"')[1:]\n",
    "        for link in link_locations:\n",
    "            link = link.split('</a>')[0]\n",
    "            links_names.append(link)\n",
    "        links_names = [link for link in links_names if '/vin/' in link] \n",
    "        links_names = list(dict.fromkeys(links_names))\n",
    "        for link in links_names:\n",
    "            split = link.split('>')[0]\n",
    "            name = link.split('>')[1]\n",
    "            links.append(split)\n",
    "            names.append(name)\n",
    "    return links, names\n",
    "\n",
    "retrive_names_and_links()"
   ]
  },
  {
   "cell_type": "code",
   "execution_count": 46,
   "metadata": {},
   "outputs": [
    {
     "name": "stderr",
     "output_type": "stream",
     "text": [
      "[WDM] - Current google-chrome version is 84.0.4147\n",
      "[WDM] - Get LATEST driver version for 84.0.4147\n",
      "[WDM] - Driver [/Users/Caroline/.wdm/drivers/chromedriver/mac64/84.0.4147.30/chromedriver] found in cache\n"
     ]
    },
    {
     "name": "stdout",
     "output_type": "stream",
     "text": [
      " \n"
     ]
    },
    {
     "name": "stderr",
     "output_type": "stream",
     "text": [
      "100%|██████████| 9/9 [00:55<00:00,  6.22s/it]\n"
     ]
    }
   ],
   "source": [
    "links_names = retrive_names_and_links()"
   ]
  },
  {
   "cell_type": "code",
   "execution_count": 51,
   "metadata": {},
   "outputs": [],
   "source": [
    "links = links_names[0]\n",
    "names = links_names[1]\n",
    "\n",
    "# Remove duplicates\n",
    "names = list(dict.fromkeys(names))\n",
    "links = list(dict.fromkeys(links))"
   ]
  },
  {
   "cell_type": "code",
   "execution_count": 52,
   "metadata": {},
   "outputs": [
    {
     "data": {
      "text/html": [
       "<div>\n",
       "<style scoped>\n",
       "    .dataframe tbody tr th:only-of-type {\n",
       "        vertical-align: middle;\n",
       "    }\n",
       "\n",
       "    .dataframe tbody tr th {\n",
       "        vertical-align: top;\n",
       "    }\n",
       "\n",
       "    .dataframe thead th {\n",
       "        text-align: right;\n",
       "    }\n",
       "</style>\n",
       "<table border=\"1\" class=\"dataframe\">\n",
       "  <thead>\n",
       "    <tr style=\"text-align: right;\">\n",
       "      <th></th>\n",
       "      <th>name</th>\n",
       "      <th>link</th>\n",
       "    </tr>\n",
       "  </thead>\n",
       "  <tbody>\n",
       "    <tr>\n",
       "      <th>0</th>\n",
       "      <td>Beer Geek Breakfast</td>\n",
       "      <td>https://www.dn.no/smak/vin/beer-geek-breakfast...</td>\n",
       "    </tr>\n",
       "    <tr>\n",
       "      <th>1</th>\n",
       "      <td>Boon Framboise</td>\n",
       "      <td>https://www.dn.no/smak/vin/boon-framboise/4-1-...</td>\n",
       "    </tr>\n",
       "    <tr>\n",
       "      <th>2</th>\n",
       "      <td>Salamandre Pur Malt</td>\n",
       "      <td>https://www.dn.no/smak/vin/salamandre-pur-malt...</td>\n",
       "    </tr>\n",
       "    <tr>\n",
       "      <th>3</th>\n",
       "      <td>N'Ice Chouffe</td>\n",
       "      <td>https://www.dn.no/smak/vin/nice-chouffe/4-1-30...</td>\n",
       "    </tr>\n",
       "    <tr>\n",
       "      <th>4</th>\n",
       "      <td>Topf Wechselberg Riesling</td>\n",
       "      <td>https://www.dn.no/smak/vin/topf-wechselberg-ri...</td>\n",
       "    </tr>\n",
       "    <tr>\n",
       "      <th>...</th>\n",
       "      <td>...</td>\n",
       "      <td>...</td>\n",
       "    </tr>\n",
       "    <tr>\n",
       "      <th>85</th>\n",
       "      <td>Prosecco Extra Dry</td>\n",
       "      <td>https://www.dn.no/smak/vin/prosecco-extra-dry/...</td>\n",
       "    </tr>\n",
       "    <tr>\n",
       "      <th>86</th>\n",
       "      <td>Finca Constancia Tempranillo</td>\n",
       "      <td>https://www.dn.no/smak/vin/finca-constancia-te...</td>\n",
       "    </tr>\n",
       "    <tr>\n",
       "      <th>87</th>\n",
       "      <td>Riondo Pink</td>\n",
       "      <td>https://www.dn.no/smak/vin/riondo-pink/4-1-25907\"</td>\n",
       "    </tr>\n",
       "    <tr>\n",
       "      <th>88</th>\n",
       "      <td>DIVICI Organic Prosecco</td>\n",
       "      <td>https://www.dn.no/smak/vin/divici-organic-pros...</td>\n",
       "    </tr>\n",
       "    <tr>\n",
       "      <th>89</th>\n",
       "      <td>Vina Esmeralda Rosé</td>\n",
       "      <td>https://www.dn.no/smak/vin/vina-esmeralda-rose...</td>\n",
       "    </tr>\n",
       "  </tbody>\n",
       "</table>\n",
       "<p>90 rows × 2 columns</p>\n",
       "</div>"
      ],
      "text/plain": [
       "                            name  \\\n",
       "0            Beer Geek Breakfast   \n",
       "1                 Boon Framboise   \n",
       "2            Salamandre Pur Malt   \n",
       "3                  N'Ice Chouffe   \n",
       "4      Topf Wechselberg Riesling   \n",
       "..                           ...   \n",
       "85            Prosecco Extra Dry   \n",
       "86  Finca Constancia Tempranillo   \n",
       "87                   Riondo Pink   \n",
       "88       DIVICI Organic Prosecco   \n",
       "89           Vina Esmeralda Rosé   \n",
       "\n",
       "                                                 link  \n",
       "0   https://www.dn.no/smak/vin/beer-geek-breakfast...  \n",
       "1   https://www.dn.no/smak/vin/boon-framboise/4-1-...  \n",
       "2   https://www.dn.no/smak/vin/salamandre-pur-malt...  \n",
       "3   https://www.dn.no/smak/vin/nice-chouffe/4-1-30...  \n",
       "4   https://www.dn.no/smak/vin/topf-wechselberg-ri...  \n",
       "..                                                ...  \n",
       "85  https://www.dn.no/smak/vin/prosecco-extra-dry/...  \n",
       "86  https://www.dn.no/smak/vin/finca-constancia-te...  \n",
       "87  https://www.dn.no/smak/vin/riondo-pink/4-1-25907\"  \n",
       "88  https://www.dn.no/smak/vin/divici-organic-pros...  \n",
       "89  https://www.dn.no/smak/vin/vina-esmeralda-rose...  \n",
       "\n",
       "[90 rows x 2 columns]"
      ]
     },
     "execution_count": 52,
     "metadata": {},
     "output_type": "execute_result"
    }
   ],
   "source": [
    "df_test = pd.DataFrame([])\n",
    "df_test['name'] = names\n",
    "df_test['link'] = links\n",
    "df_test"
   ]
  },
  {
   "cell_type": "code",
   "execution_count": 61,
   "metadata": {},
   "outputs": [
    {
     "name": "stderr",
     "output_type": "stream",
     "text": [
      "[WDM] - Current google-chrome version is 84.0.4147\n",
      "[WDM] - Get LATEST driver version for 84.0.4147\n",
      "[WDM] - Driver [/Users/Caroline/.wdm/drivers/chromedriver/mac64/84.0.4147.30/chromedriver] found in cache\n"
     ]
    },
    {
     "name": "stdout",
     "output_type": "stream",
     "text": [
      " \n"
     ]
    },
    {
     "name": "stderr",
     "output_type": "stream",
     "text": [
      " 50%|█████     | 1/2 [00:07<00:07,  7.56s/it]"
     ]
    },
    {
     "name": "stdout",
     "output_type": "stream",
     "text": [
      "['/assets/application-42927b43222e908ef52255f0377581b0d311bd29f4470cf8069b6c1f5ae57acc.css\" data-turbolinks-track=\"true\">\\n<!-- HTML5 shim and Respond.js IE8 support of HTML5 elements and media queries -->\\n<!--[if lt IE 9]>\\n<script src=\"https://oss.maxcdn.com/libs/respond.js/1.3.0/respond.min.js\"></script>\\n<![endif]-->\\n<!-- Google Analytics tracking code. -->\\n<script src=\"https://connect.facebook.net/signals/config/564683513994910?v=2.9.23&amp;r=stable\" async=\"\"></script><script src=\"https://connect.facebook.net/en_US/sdk.js?hash=0fa5a71ff5daba58e577d5bf97f6410f&amp;ua=modern_es6\" async=\"\" crossorigin=\"anonymous\"></script><script async=\"\" src=\"https://connect.facebook.net/en_US/fbevents.js\"></script><script type=\"text/javascript\" defer=\"\" src=\"https://d31qbv1cthcecs.cloudfront.net/atrk.js\"></script><script type=\"text/javascript\" async=\"\" src=\"https://cdn.heapanalytics.com/js/heap-3503103446.js\"></script><script async=\"\" src=\"//www.google-analytics.com/analytics.js\"></script><script>\\nvar dataLayer = [{\"user\":{\"status\":\"logged-out\"}}];\\n</script>\\n<script>\\nvar vivinoCacheKey = \\'446940327868b531465e5f273baa368437f6\\';\\nvar stripeKey = \\'pk_live_f4BNIfN3nlvNKpyNQx36OAsN\\';\\nvar gtagId = \\'AW-965616812\\';\\nvar gtagEventId = \\'1bCyCMjWzX8QrMm4zAM\\';\\n</script>\\n<script type=\"application/ld+json\">\\n[{\"@context\":\"http://schema.org/\",\"@type\":\"Product\",', '\"https://www.vivino.com/wines/7632620\",\"name\":\"Beer Geek Riesling\",\"image\":\"https://images.vivino.com/thumbs/7U_7XPLWSQyC5PMmo153Gg_375x500.jpg\",\"description\":\"Check out this Mikkeller Beer Geek Riesling on Vivino. 217 users rated it 3.8 out of 5 stars.\",\"aggregateRating\":{\"@type\":\"AggregateRating\",\"ratingValue\":3.8,\"reviewCount\":217,\"bestRating\":5,\"worstRating\":0},\"manufacturer\":{\"@type\":\"Organization\",\"name\":\"Mikkeller\",\"url\":\"https://www.vivino.com/wineries/mikkeller\"}},{\"@context\":\"http://schema.org/\",\"@type\":\"Product\",', '\"https://www.vivino.com/wines/156921974\",\"name\":\"Beer Geek Auslese\",\"image\":\"https://images.vivino.com/thumbs/default_label_375x500.jpg\",\"description\":\"Check out this Mikkeller Beer Geek Auslese on Vivino. 17 users rated it 4.2 out of 5 stars.\",\"aggregateRating\":{\"@type\":\"AggregateRating\",\"ratingValue\":4.2,\"reviewCount\":17,\"bestRating\":5,\"worstRating\":0},\"manufacturer\":{\"@type\":\"Organization\",\"name\":\"Mikkeller\",\"url\":\"https://www.vivino.com/wineries/mikkeller\"}},{\"@context\":\"http://schema.org/\",\"@type\":\"Product\",', '\"https://www.vivino.com/wines/4199343\",\"name\":\"Sparkling Ruby Cabernet\",\"image\":\"https://images.vivino.com/thumbs/00odaqs91fy8z_375x500.jpg\",\"description\":\"Check out this Maggie Beer Sparkling Ruby Cabernet on Vivino. 22 users rated it 3.5 out of 5 stars.\",\"aggregateRating\":{\"@type\":\"AggregateRating\",\"ratingValue\":3.5,\"reviewCount\":22,\"bestRating\":5,\"worstRating\":0},\"manufacturer\":{\"@type\":\"Organization\",\"name\":\"Maggie Beer\",\"url\":\"https://www.vivino.com/wineries/maggie-beer\"}},{\"@context\":\"http://schema.org/\",\"@type\":\"Product\",', '\"https://www.vivino.com/wines/1958146\",\"name\":\"Delicia Whipped Flavored Beer\",\"image\":\"https://images.vivino.com/thumbs/00w4e1uruy4p5_375x500.jpg\",\"description\":\"Check out this Delicia Whipped Flavored Beer on Vivino. 32 users rated it 3.4 out of 5 stars.\",\"aggregateRating\":{\"@type\":\"AggregateRating\",\"ratingValue\":3.4,\"reviewCount\":32,\"bestRating\":5,\"worstRating\":0},\"manufacturer\":{\"@type\":\"Organization\",\"name\":null,\"url\":null}},{\"@context\":\"http://schema.org/\",\"@type\":\"Product\",', '\"https://www.vivino.com/wines/155338297\",\"name\":\"Sparkling Chardonnay\",\"image\":\"https://images.vivino.com/thumbs/1uALx0fDRdeJtDxSuFXZLA_375x500.jpg\",\"description\":\"Check out this Maggie Beer Sparkling Chardonnay on Vivino. \",\"aggregateRating\":{\"@type\":\"AggregateRating\",\"ratingValue\":0.0,\"reviewCount\":9,\"bestRating\":5,\"worstRating\":0},\"manufacturer\":{\"@type\":\"Organization\",\"name\":\"Maggie Beer\",\"url\":\"https://www.vivino.com/wineries/maggie-beer\"}},{\"@context\":\"http://schema.org/\",\"@type\":\"Product\",', '\"https://www.vivino.com/wines/144638264\",\"name\":\"Computer Geek\",\"image\":\"https://images.vivino.com/thumbs/5lGxMJyoRF-3dvnombKqzQ_pl_375x500.png\",\"description\":\"Check out this Slacker Computer Geek on Vivino. 27 users rated it 4.1 out of 5 stars.\",\"aggregateRating\":{\"@type\":\"AggregateRating\",\"ratingValue\":4.1,\"reviewCount\":27,\"bestRating\":5,\"worstRating\":0},\"manufacturer\":{\"@type\":\"Organization\",\"name\":\"Slacker\",\"url\":\"https://www.vivino.com/wineries/slacker\"}},{\"@context\":\"http://schema.org/\",\"@type\":\"Product\",', '\"https://www.vivino.com/wines/18781253\",\"name\":\"Gary Is A Geek Riesling\",\"image\":\"https://images.vivino.com/thumbs/019djvbvwwbgo_375x500.jpg\",\"description\":\"Check out this My Other Self Gary Is A Geek Riesling on Vivino. 18 users rated it 3.7 out of 5 stars.\",\"aggregateRating\":{\"@type\":\"AggregateRating\",\"ratingValue\":3.7,\"reviewCount\":18,\"bestRating\":5,\"worstRating\":0},\"manufacturer\":{\"@type\":\"Organization\",\"name\":\"My Other Self\",\"url\":\"https://www.vivino.com/wineries/my-other-self\"}},{\"@context\":\"http://schema.org/\",\"@type\":\"Product\",', '\"https://www.vivino.com/wines/149205899\",\"name\":\"The Geek Riesling\",\"image\":\"https://images.vivino.com/thumbs/vx-n22DvRImwMhe6S9IclQ_375x500.jpg\",\"description\":\"Check out this Leaning Post The Geek Riesling on Vivino. 35 users rated it 4 out of 5 stars.\",\"aggregateRating\":{\"@type\":\"AggregateRating\",\"ratingValue\":4.0,\"reviewCount\":35,\"bestRating\":5,\"worstRating\":0},\"manufacturer\":{\"@type\":\"Organization\",\"name\":\"Leaning Post\",\"url\":\"https://www.vivino.com/wineries/leaning-post\"}},{\"@context\":\"http://schema.org/\",\"@type\":\"Product\",', '\"https://www.vivino.com/wines/3437698\",\"name\":\"Anchor Steam Beer\",\"image\":\"https://images.vivino.com/thumbs/PJpX6nioT8aoce11Jtl_Cg_375x500.jpg\",\"description\":\"Check out this Anchor Steam Beer on Vivino. \",\"aggregateRating\":{\"@type\":\"AggregateRating\",\"ratingValue\":0.0,\"reviewCount\":9,\"bestRating\":5,\"worstRating\":0},\"manufacturer\":{\"@type\":\"Organization\",\"name\":null,\"url\":null}},{\"@context\":\"http://schema.org/\",\"@type\":\"Product\",', '\"https://www.vivino.com/wines/3124370\",\"name\":\"Mikkeller Spontan Cherry Beer\",\"image\":\"https://images.vivino.com/thumbs/00d7dgp9i8l78_375x500.jpg\",\"description\":\"Check out this Mikkeller Spontan Cherry Beer on Vivino. 10 users rated it 4 out of 5 stars.\",\"aggregateRating\":{\"@type\":\"AggregateRating\",\"ratingValue\":4.0,\"reviewCount\":10,\"bestRating\":5,\"worstRating\":0},\"manufacturer\":{\"@type\":\"Organization\",\"name\":null,\"url\":null}},{\"@context\":\"http://schema.org/\",\"@type\":\"Product\",', '\"https://www.vivino.com/wines/153278650\",\"name\":\"Beer\",\"image\":\"https://images.vivino.com/thumbs/default_label_375x500.jpg\",\"description\":\"Check out this Beer on Vivino. \",\"aggregateRating\":{\"@type\":\"AggregateRating\",\"ratingValue\":0.0,\"reviewCount\":9,\"bestRating\":5,\"worstRating\":0},\"manufacturer\":{\"@type\":\"Organization\",\"name\":null,\"url\":null}},{\"@context\":\"http://schema.org/\",\"@type\":\"Product\",', '\"https://www.vivino.com/wines/16096801\",\"name\":\"Barossa Valley Shiraz\",\"image\":\"https://images.vivino.com/thumbs/FnCrLgydTReuf_fzwSFpkQ_375x500.jpg\",\"description\":\"Check out this Beer Bros Barossa Valley Shiraz on Vivino. 14 users rated it 3.4 out of 5 stars.\",\"aggregateRating\":{\"@type\":\"AggregateRating\",\"ratingValue\":3.4,\"reviewCount\":14,\"bestRating\":5,\"worstRating\":0},\"manufacturer\":{\"@type\":\"Organization\",\"name\":\"Beer Bros\",\"url\":\"https://www.vivino.com/wineries/beer-bros\"}},{\"@context\":\"http://schema.org/\",\"@type\":\"Product\",', '\"https://www.vivino.com/wines/27102680\",\"name\":\"Baccusardus Beer Barley\",\"image\":\"https://images.vivino.com/thumbs/02f16fgq1b5qa_375x500.jpg\",\"description\":\"Check out this Baccusardus Beer Barley on Vivino. \",\"aggregateRating\":{\"@type\":\"AggregateRating\",\"ratingValue\":0.0,\"reviewCount\":5,\"bestRating\":5,\"worstRating\":0},\"manufacturer\":{\"@type\":\"Organization\",\"name\":null,\"url\":null}},{\"@context\":\"http://schema.org/\",\"@type\":\"Product\",', '\"https://www.vivino.com/wines/158700677\",\"name\":\"Sémillon - Sauvignon Blanc\",\"image\":\"https://images.vivino.com/thumbs/XPMWBAMzSnSHjroNCA9_IQ_375x500.jpg\",\"description\":\"Check out this Beer Bros Sémillon - Sauvignon Blanc on Vivino. \",\"aggregateRating\":{\"@type\":\"AggregateRating\",\"ratingValue\":0.0,\"reviewCount\":6,\"bestRating\":5,\"worstRating\":0},\"manufacturer\":{\"@type\":\"Organization\",\"name\":\"Beer Bros\",\"url\":\"https://www.vivino.com/wineries/beer-bros\"}},{\"@context\":\"http://schema.org/\",\"@type\":\"Product\",', '\"https://www.vivino.com/wines/22363094\",\"name\":\"Neuschwansteiner Beer\",\"image\":\"https://images.vivino.com/thumbs/default_label_375x500.jpg\",\"description\":\"Check out this Neuschwansteiner Beer on Vivino. \",\"aggregateRating\":{\"@type\":\"AggregateRating\",\"ratingValue\":0.0,\"reviewCount\":1,\"bestRating\":5,\"worstRating\":0},\"manufacturer\":{\"@type\":\"Organization\",\"name\":null,\"url\":null}},{\"@context\":\"http://schema.org/\",\"@type\":\"Product\",', '\"https://www.vivino.com/wines/154501428\",\"name\":\"Dog\\'s Breakfast\",\"image\":\"https://images.vivino.com/thumbs/ah0zCmX8SqWWIypfS1sEGQ_375x500.jpg\",\"description\":\"Check out this Moolanda Vineyard Dog\\'s Breakfast on Vivino. \",\"aggregateRating\":{\"@type\":\"AggregateRating\",\"ratingValue\":0.0,\"reviewCount\":5,\"bestRating\":5,\"worstRating\":0},\"manufacturer\":{\"@type\":\"Organization\",\"name\":\"Moolanda Vineyard\",\"url\":\"https://www.vivino.com/wineries/moolanda-vineyard\"}},{\"@context\":\"http://schema.org/\",\"@type\":\"Product\",', '\"https://www.vivino.com/wines/163088503\",\"name\":\"Beer Club Riesling\",\"image\":\"https://images.vivino.com/thumbs/JiA_z48DQHaZcXQ1sGHl9w_375x500.jpg\",\"description\":\"Check out this Mikkeller Beer Club Riesling on Vivino. 13 users rated it 3.8 out of 5 stars.\",\"aggregateRating\":{\"@type\":\"AggregateRating\",\"ratingValue\":3.8,\"reviewCount\":13,\"bestRating\":5,\"worstRating\":0},\"manufacturer\":{\"@type\":\"Organization\",\"name\":\"Mikkeller\",\"url\":\"https://www.vivino.com/wineries/mikkeller\"}},{\"@context\":\"http://schema.org/\",\"@type\":\"Product\",', '\"https://www.vivino.com/wines/8528595\",\"name\":\"Beer Bros\",\"image\":\"https://images.vivino.com/thumbs/default_label_375x500.jpg\",\"description\":\"Check out this Beer Bros on Vivino. \",\"aggregateRating\":{\"@type\":\"AggregateRating\",\"ratingValue\":0.0,\"reviewCount\":1,\"bestRating\":5,\"worstRating\":0},\"manufacturer\":{\"@type\":\"Organization\",\"name\":null,\"url\":null}},{\"@context\":\"http://schema.org/\",\"@type\":\"Product\",', '\"https://www.vivino.com/wines/17619630\",\"name\":\"Breakfast Rock Syrah\",\"image\":\"https://images.vivino.com/thumbs/012gbpau2rvg8_375x500.jpg\",\"description\":\"Check out this Andy Mitchell Breakfast Rock Syrah on Vivino. \",\"aggregateRating\":{\"@type\":\"AggregateRating\",\"ratingValue\":0.0,\"reviewCount\":7,\"bestRating\":5,\"worstRating\":0},\"manufacturer\":{\"@type\":\"Organization\",\"name\":\"Andy Mitchell\",\"url\":\"https://www.vivino.com/wineries/andy-mitchell\"}},{\"@context\":\"http://schema.org/\",\"@type\":\"Product\",', '\"https://www.vivino.com/wines/164255952\",\"name\":\"Sauvignon Blanc Amber\",\"image\":\"https://images.vivino.com/thumbs/0WawaPTrSRy50WaXtLG5nw_375x500.jpg\",\"description\":\"Check out this Woods Beer Sauvignon Blanc Amber on Vivino. \",\"aggregateRating\":{\"@type\":\"AggregateRating\",\"ratingValue\":0.0,\"reviewCount\":4,\"bestRating\":5,\"worstRating\":0},\"manufacturer\":{\"@type\":\"Organization\",\"name\":\"Woods Beer\",\"url\":\"https://www.vivino.com/wineries/woods-beer\"}}]\\n</script>\\n\\n      <script type=\"text/javascript\" src=\"/locale_packs/generic_da-5fad7bbbaaf745b9a6d84d8742e47f58279b72a782a839d2488b8435fc6b9997.js\"></script>\\n\\n<script async=\"\" src=\"https://static.hotjar.com/c/hotjar-1506979.js?sv=6\"></script><link rel=\"prefetch\" as=\"script\" ']\n"
     ]
    },
    {
     "name": "stderr",
     "output_type": "stream",
     "text": [
      "100%|██████████| 2/2 [00:13<00:00,  6.96s/it]"
     ]
    },
    {
     "name": "stdout",
     "output_type": "stream",
     "text": [
      "['/assets/application-42927b43222e908ef52255f0377581b0d311bd29f4470cf8069b6c1f5ae57acc.css\" data-turbolinks-track=\"true\">\\n<!-- HTML5 shim and Respond.js IE8 support of HTML5 elements and media queries -->\\n<!--[if lt IE 9]>\\n<script src=\"https://oss.maxcdn.com/libs/respond.js/1.3.0/respond.min.js\"></script>\\n<![endif]-->\\n<!-- Google Analytics tracking code. -->\\n<script src=\"https://connect.facebook.net/signals/config/564683513994910?v=2.9.23&amp;r=stable\" async=\"\"></script><script src=\"https://connect.facebook.net/en_US/sdk.js?hash=0fa5a71ff5daba58e577d5bf97f6410f&amp;ua=modern_es6\" async=\"\" crossorigin=\"anonymous\"></script><script async=\"\" src=\"https://connect.facebook.net/en_US/fbevents.js\"></script><script type=\"text/javascript\" defer=\"\" src=\"https://d31qbv1cthcecs.cloudfront.net/atrk.js\"></script><script type=\"text/javascript\" async=\"\" src=\"https://cdn.heapanalytics.com/js/heap-3503103446.js\"></script><script async=\"\" src=\"//www.google-analytics.com/analytics.js\"></script><script>\\nvar dataLayer = [{\"user\":{\"status\":\"logged-out\"}}];\\n</script>\\n<script>\\nvar vivinoCacheKey = \\'446940327868b531465e5f273baa368437f6\\';\\nvar stripeKey = \\'pk_live_f4BNIfN3nlvNKpyNQx36OAsN\\';\\nvar gtagId = \\'AW-965616812\\';\\nvar gtagEventId = \\'1bCyCMjWzX8QrMm4zAM\\';\\n</script>\\n<script type=\"application/ld+json\">\\n[{\"@context\":\"http://schema.org/\",\"@type\":\"Product\",', '\"https://www.vivino.com/wines/7632620\",\"name\":\"Beer Geek Riesling\",\"image\":\"https://images.vivino.com/thumbs/7U_7XPLWSQyC5PMmo153Gg_375x500.jpg\",\"description\":\"Check out this Mikkeller Beer Geek Riesling on Vivino. 217 users rated it 3.8 out of 5 stars.\",\"aggregateRating\":{\"@type\":\"AggregateRating\",\"ratingValue\":3.8,\"reviewCount\":217,\"bestRating\":5,\"worstRating\":0},\"manufacturer\":{\"@type\":\"Organization\",\"name\":\"Mikkeller\",\"url\":\"https://www.vivino.com/wineries/mikkeller\"}},{\"@context\":\"http://schema.org/\",\"@type\":\"Product\",', '\"https://www.vivino.com/wines/156921974\",\"name\":\"Beer Geek Auslese\",\"image\":\"https://images.vivino.com/thumbs/default_label_375x500.jpg\",\"description\":\"Check out this Mikkeller Beer Geek Auslese on Vivino. 17 users rated it 4.2 out of 5 stars.\",\"aggregateRating\":{\"@type\":\"AggregateRating\",\"ratingValue\":4.2,\"reviewCount\":17,\"bestRating\":5,\"worstRating\":0},\"manufacturer\":{\"@type\":\"Organization\",\"name\":\"Mikkeller\",\"url\":\"https://www.vivino.com/wineries/mikkeller\"}},{\"@context\":\"http://schema.org/\",\"@type\":\"Product\",', '\"https://www.vivino.com/wines/4199343\",\"name\":\"Sparkling Ruby Cabernet\",\"image\":\"https://images.vivino.com/thumbs/00odaqs91fy8z_375x500.jpg\",\"description\":\"Check out this Maggie Beer Sparkling Ruby Cabernet on Vivino. 22 users rated it 3.5 out of 5 stars.\",\"aggregateRating\":{\"@type\":\"AggregateRating\",\"ratingValue\":3.5,\"reviewCount\":22,\"bestRating\":5,\"worstRating\":0},\"manufacturer\":{\"@type\":\"Organization\",\"name\":\"Maggie Beer\",\"url\":\"https://www.vivino.com/wineries/maggie-beer\"}},{\"@context\":\"http://schema.org/\",\"@type\":\"Product\",', '\"https://www.vivino.com/wines/1958146\",\"name\":\"Delicia Whipped Flavored Beer\",\"image\":\"https://images.vivino.com/thumbs/00w4e1uruy4p5_375x500.jpg\",\"description\":\"Check out this Delicia Whipped Flavored Beer on Vivino. 32 users rated it 3.4 out of 5 stars.\",\"aggregateRating\":{\"@type\":\"AggregateRating\",\"ratingValue\":3.4,\"reviewCount\":32,\"bestRating\":5,\"worstRating\":0},\"manufacturer\":{\"@type\":\"Organization\",\"name\":null,\"url\":null}},{\"@context\":\"http://schema.org/\",\"@type\":\"Product\",', '\"https://www.vivino.com/wines/155338297\",\"name\":\"Sparkling Chardonnay\",\"image\":\"https://images.vivino.com/thumbs/1uALx0fDRdeJtDxSuFXZLA_375x500.jpg\",\"description\":\"Check out this Maggie Beer Sparkling Chardonnay on Vivino. \",\"aggregateRating\":{\"@type\":\"AggregateRating\",\"ratingValue\":0.0,\"reviewCount\":9,\"bestRating\":5,\"worstRating\":0},\"manufacturer\":{\"@type\":\"Organization\",\"name\":\"Maggie Beer\",\"url\":\"https://www.vivino.com/wineries/maggie-beer\"}},{\"@context\":\"http://schema.org/\",\"@type\":\"Product\",', '\"https://www.vivino.com/wines/144638264\",\"name\":\"Computer Geek\",\"image\":\"https://images.vivino.com/thumbs/5lGxMJyoRF-3dvnombKqzQ_pl_375x500.png\",\"description\":\"Check out this Slacker Computer Geek on Vivino. 27 users rated it 4.1 out of 5 stars.\",\"aggregateRating\":{\"@type\":\"AggregateRating\",\"ratingValue\":4.1,\"reviewCount\":27,\"bestRating\":5,\"worstRating\":0},\"manufacturer\":{\"@type\":\"Organization\",\"name\":\"Slacker\",\"url\":\"https://www.vivino.com/wineries/slacker\"}},{\"@context\":\"http://schema.org/\",\"@type\":\"Product\",', '\"https://www.vivino.com/wines/18781253\",\"name\":\"Gary Is A Geek Riesling\",\"image\":\"https://images.vivino.com/thumbs/019djvbvwwbgo_375x500.jpg\",\"description\":\"Check out this My Other Self Gary Is A Geek Riesling on Vivino. 18 users rated it 3.7 out of 5 stars.\",\"aggregateRating\":{\"@type\":\"AggregateRating\",\"ratingValue\":3.7,\"reviewCount\":18,\"bestRating\":5,\"worstRating\":0},\"manufacturer\":{\"@type\":\"Organization\",\"name\":\"My Other Self\",\"url\":\"https://www.vivino.com/wineries/my-other-self\"}},{\"@context\":\"http://schema.org/\",\"@type\":\"Product\",', '\"https://www.vivino.com/wines/149205899\",\"name\":\"The Geek Riesling\",\"image\":\"https://images.vivino.com/thumbs/vx-n22DvRImwMhe6S9IclQ_375x500.jpg\",\"description\":\"Check out this Leaning Post The Geek Riesling on Vivino. 35 users rated it 4 out of 5 stars.\",\"aggregateRating\":{\"@type\":\"AggregateRating\",\"ratingValue\":4.0,\"reviewCount\":35,\"bestRating\":5,\"worstRating\":0},\"manufacturer\":{\"@type\":\"Organization\",\"name\":\"Leaning Post\",\"url\":\"https://www.vivino.com/wineries/leaning-post\"}},{\"@context\":\"http://schema.org/\",\"@type\":\"Product\",', '\"https://www.vivino.com/wines/3437698\",\"name\":\"Anchor Steam Beer\",\"image\":\"https://images.vivino.com/thumbs/PJpX6nioT8aoce11Jtl_Cg_375x500.jpg\",\"description\":\"Check out this Anchor Steam Beer on Vivino. \",\"aggregateRating\":{\"@type\":\"AggregateRating\",\"ratingValue\":0.0,\"reviewCount\":9,\"bestRating\":5,\"worstRating\":0},\"manufacturer\":{\"@type\":\"Organization\",\"name\":null,\"url\":null}},{\"@context\":\"http://schema.org/\",\"@type\":\"Product\",', '\"https://www.vivino.com/wines/3124370\",\"name\":\"Mikkeller Spontan Cherry Beer\",\"image\":\"https://images.vivino.com/thumbs/00d7dgp9i8l78_375x500.jpg\",\"description\":\"Check out this Mikkeller Spontan Cherry Beer on Vivino. 10 users rated it 4 out of 5 stars.\",\"aggregateRating\":{\"@type\":\"AggregateRating\",\"ratingValue\":4.0,\"reviewCount\":10,\"bestRating\":5,\"worstRating\":0},\"manufacturer\":{\"@type\":\"Organization\",\"name\":null,\"url\":null}},{\"@context\":\"http://schema.org/\",\"@type\":\"Product\",', '\"https://www.vivino.com/wines/153278650\",\"name\":\"Beer\",\"image\":\"https://images.vivino.com/thumbs/default_label_375x500.jpg\",\"description\":\"Check out this Beer on Vivino. \",\"aggregateRating\":{\"@type\":\"AggregateRating\",\"ratingValue\":0.0,\"reviewCount\":9,\"bestRating\":5,\"worstRating\":0},\"manufacturer\":{\"@type\":\"Organization\",\"name\":null,\"url\":null}},{\"@context\":\"http://schema.org/\",\"@type\":\"Product\",', '\"https://www.vivino.com/wines/16096801\",\"name\":\"Barossa Valley Shiraz\",\"image\":\"https://images.vivino.com/thumbs/FnCrLgydTReuf_fzwSFpkQ_375x500.jpg\",\"description\":\"Check out this Beer Bros Barossa Valley Shiraz on Vivino. 14 users rated it 3.4 out of 5 stars.\",\"aggregateRating\":{\"@type\":\"AggregateRating\",\"ratingValue\":3.4,\"reviewCount\":14,\"bestRating\":5,\"worstRating\":0},\"manufacturer\":{\"@type\":\"Organization\",\"name\":\"Beer Bros\",\"url\":\"https://www.vivino.com/wineries/beer-bros\"}},{\"@context\":\"http://schema.org/\",\"@type\":\"Product\",', '\"https://www.vivino.com/wines/27102680\",\"name\":\"Baccusardus Beer Barley\",\"image\":\"https://images.vivino.com/thumbs/02f16fgq1b5qa_375x500.jpg\",\"description\":\"Check out this Baccusardus Beer Barley on Vivino. \",\"aggregateRating\":{\"@type\":\"AggregateRating\",\"ratingValue\":0.0,\"reviewCount\":5,\"bestRating\":5,\"worstRating\":0},\"manufacturer\":{\"@type\":\"Organization\",\"name\":null,\"url\":null}},{\"@context\":\"http://schema.org/\",\"@type\":\"Product\",', '\"https://www.vivino.com/wines/158700677\",\"name\":\"Sémillon - Sauvignon Blanc\",\"image\":\"https://images.vivino.com/thumbs/XPMWBAMzSnSHjroNCA9_IQ_375x500.jpg\",\"description\":\"Check out this Beer Bros Sémillon - Sauvignon Blanc on Vivino. \",\"aggregateRating\":{\"@type\":\"AggregateRating\",\"ratingValue\":0.0,\"reviewCount\":6,\"bestRating\":5,\"worstRating\":0},\"manufacturer\":{\"@type\":\"Organization\",\"name\":\"Beer Bros\",\"url\":\"https://www.vivino.com/wineries/beer-bros\"}},{\"@context\":\"http://schema.org/\",\"@type\":\"Product\",', '\"https://www.vivino.com/wines/22363094\",\"name\":\"Neuschwansteiner Beer\",\"image\":\"https://images.vivino.com/thumbs/default_label_375x500.jpg\",\"description\":\"Check out this Neuschwansteiner Beer on Vivino. \",\"aggregateRating\":{\"@type\":\"AggregateRating\",\"ratingValue\":0.0,\"reviewCount\":1,\"bestRating\":5,\"worstRating\":0},\"manufacturer\":{\"@type\":\"Organization\",\"name\":null,\"url\":null}},{\"@context\":\"http://schema.org/\",\"@type\":\"Product\",', '\"https://www.vivino.com/wines/154501428\",\"name\":\"Dog\\'s Breakfast\",\"image\":\"https://images.vivino.com/thumbs/ah0zCmX8SqWWIypfS1sEGQ_375x500.jpg\",\"description\":\"Check out this Moolanda Vineyard Dog\\'s Breakfast on Vivino. \",\"aggregateRating\":{\"@type\":\"AggregateRating\",\"ratingValue\":0.0,\"reviewCount\":5,\"bestRating\":5,\"worstRating\":0},\"manufacturer\":{\"@type\":\"Organization\",\"name\":\"Moolanda Vineyard\",\"url\":\"https://www.vivino.com/wineries/moolanda-vineyard\"}},{\"@context\":\"http://schema.org/\",\"@type\":\"Product\",', '\"https://www.vivino.com/wines/163088503\",\"name\":\"Beer Club Riesling\",\"image\":\"https://images.vivino.com/thumbs/JiA_z48DQHaZcXQ1sGHl9w_375x500.jpg\",\"description\":\"Check out this Mikkeller Beer Club Riesling on Vivino. 13 users rated it 3.8 out of 5 stars.\",\"aggregateRating\":{\"@type\":\"AggregateRating\",\"ratingValue\":3.8,\"reviewCount\":13,\"bestRating\":5,\"worstRating\":0},\"manufacturer\":{\"@type\":\"Organization\",\"name\":\"Mikkeller\",\"url\":\"https://www.vivino.com/wineries/mikkeller\"}},{\"@context\":\"http://schema.org/\",\"@type\":\"Product\",', '\"https://www.vivino.com/wines/8528595\",\"name\":\"Beer Bros\",\"image\":\"https://images.vivino.com/thumbs/default_label_375x500.jpg\",\"description\":\"Check out this Beer Bros on Vivino. \",\"aggregateRating\":{\"@type\":\"AggregateRating\",\"ratingValue\":0.0,\"reviewCount\":1,\"bestRating\":5,\"worstRating\":0},\"manufacturer\":{\"@type\":\"Organization\",\"name\":null,\"url\":null}},{\"@context\":\"http://schema.org/\",\"@type\":\"Product\",', '\"https://www.vivino.com/wines/17619630\",\"name\":\"Breakfast Rock Syrah\",\"image\":\"https://images.vivino.com/thumbs/012gbpau2rvg8_375x500.jpg\",\"description\":\"Check out this Andy Mitchell Breakfast Rock Syrah on Vivino. \",\"aggregateRating\":{\"@type\":\"AggregateRating\",\"ratingValue\":0.0,\"reviewCount\":7,\"bestRating\":5,\"worstRating\":0},\"manufacturer\":{\"@type\":\"Organization\",\"name\":\"Andy Mitchell\",\"url\":\"https://www.vivino.com/wineries/andy-mitchell\"}},{\"@context\":\"http://schema.org/\",\"@type\":\"Product\",', '\"https://www.vivino.com/wines/164255952\",\"name\":\"Sauvignon Blanc Amber\",\"image\":\"https://images.vivino.com/thumbs/0WawaPTrSRy50WaXtLG5nw_375x500.jpg\",\"description\":\"Check out this Woods Beer Sauvignon Blanc Amber on Vivino. \",\"aggregateRating\":{\"@type\":\"AggregateRating\",\"ratingValue\":0.0,\"reviewCount\":4,\"bestRating\":5,\"worstRating\":0},\"manufacturer\":{\"@type\":\"Organization\",\"name\":\"Woods Beer\",\"url\":\"https://www.vivino.com/wineries/woods-beer\"}}]\\n</script>\\n\\n      <script type=\"text/javascript\" src=\"/locale_packs/generic_da-5fad7bbbaaf745b9a6d84d8742e47f58279b72a782a839d2488b8435fc6b9997.js\"></script>\\n\\n<script async=\"\" src=\"https://static.hotjar.com/c/hotjar-1506979.js?sv=6\"></script><link rel=\"prefetch\" as=\"script\" ']\n",
      "['/assets/application-42927b43222e908ef52255f0377581b0d311bd29f4470cf8069b6c1f5ae57acc.css\" data-turbolinks-track=\"true\">\\n<!-- HTML5 shim and Respond.js IE8 support of HTML5 elements and media queries -->\\n<!--[if lt IE 9]>\\n<script src=\"https://oss.maxcdn.com/libs/respond.js/1.3.0/respond.min.js\"></script>\\n<![endif]-->\\n<!-- Google Analytics tracking code. -->\\n<script src=\"https://connect.facebook.net/signals/config/564683513994910?v=2.9.23&amp;r=stable\" async=\"\"></script><script src=\"https://connect.facebook.net/en_US/sdk.js?hash=0fa5a71ff5daba58e577d5bf97f6410f&amp;ua=modern_es6\" async=\"\" crossorigin=\"anonymous\"></script><script async=\"\" src=\"https://connect.facebook.net/en_US/fbevents.js\"></script><script type=\"text/javascript\" defer=\"\" src=\"https://d31qbv1cthcecs.cloudfront.net/atrk.js\"></script><script type=\"text/javascript\" async=\"\" src=\"https://cdn.heapanalytics.com/js/heap-3503103446.js\"></script><script async=\"\" src=\"//www.google-analytics.com/analytics.js\"></script><script>\\nvar dataLayer = [{\"user\":{\"status\":\"logged-out\"}}];\\n</script>\\n<script>\\nvar vivinoCacheKey = \\'446940327868b531465e5f273baa368437f6\\';\\nvar stripeKey = \\'pk_live_f4BNIfN3nlvNKpyNQx36OAsN\\';\\nvar gtagId = \\'AW-965616812\\';\\nvar gtagEventId = \\'1bCyCMjWzX8QrMm4zAM\\';\\n</script>\\n<script type=\"application/ld+json\">\\n[{\"@context\":\"http://schema.org/\",\"@type\":\"Product\",', '\"https://www.vivino.com/wines/84209693\",\"name\":\"Framboise Boon\",\"image\":\"https://images.vivino.com/thumbs/WN1nY-K8QKmsN6hG7rZbmg_375x500.jpg\",\"description\":\"Check out this Framboise Boon on Vivino. \",\"aggregateRating\":{\"@type\":\"AggregateRating\",\"ratingValue\":0.0,\"reviewCount\":4,\"bestRating\":5,\"worstRating\":0},\"manufacturer\":{\"@type\":\"Organization\",\"name\":null,\"url\":null}},{\"@context\":\"http://schema.org/\",\"@type\":\"Product\",', '\"https://www.vivino.com/wines/161863804\",\"name\":\"Framboise\",\"image\":\"https://images.vivino.com/thumbs/dd5DCKp3SnavKFPsM1qsJQ_375x500.jpg\",\"description\":\"Check out this Bonny Doon Framboise on Vivino. \",\"aggregateRating\":{\"@type\":\"AggregateRating\",\"ratingValue\":0.0,\"reviewCount\":2,\"bestRating\":5,\"worstRating\":0},\"manufacturer\":{\"@type\":\"Organization\",\"name\":\"Bonny Doon\",\"url\":\"https://www.vivino.com/wineries/bonny-doon\"}},{\"@context\":\"http://schema.org/\",\"@type\":\"Product\",', '\"https://www.vivino.com/wines/149685256\",\"name\":\"Framboise Bonny Doon Vineyard\",\"image\":\"https://images.vivino.com/thumbs/cqI4FbqNQRu6urIdj8rxCw_375x500.jpg\",\"description\":\"Check out this Framboise Bonny Doon Vineyard on Vivino. \",\"aggregateRating\":{\"@type\":\"AggregateRating\",\"ratingValue\":0.0,\"reviewCount\":8,\"bestRating\":5,\"worstRating\":0},\"manufacturer\":{\"@type\":\"Organization\",\"name\":null,\"url\":null}}]\\n</script>\\n\\n      <script type=\"text/javascript\" src=\"/locale_packs/generic_da-5fad7bbbaaf745b9a6d84d8742e47f58279b72a782a839d2488b8435fc6b9997.js\"></script>\\n\\n<script async=\"\" src=\"https://static.hotjar.com/c/hotjar-1506979.js?sv=6\"></script><link rel=\"prefetch\" as=\"script\" ']\n"
     ]
    },
    {
     "name": "stderr",
     "output_type": "stream",
     "text": [
      "\n"
     ]
    }
   ],
   "source": [
    "# Test search names on Vivino\n",
    "search_name = []\n",
    "for name in names: \n",
    "    search_name.append(str(name).replace(' ', '+'))\n",
    "    \n",
    "driver = webdriver.Chrome(ChromeDriverManager().install())\n",
    "\n",
    "vivino_link_locations = []\n",
    "vivino_links_names = []\n",
    "vivino_links = []\n",
    "vivino_names = []\n",
    "\n",
    "for name in tqdm(search_name[0:2]): \n",
    "    search_url = f'https://www.vivino.com/search/wines?q={name}'\n",
    "    driver.get(search_url)\n",
    "    time.sleep(5)\n",
    "    htmlSource = driver.page_source\n",
    "    vivino_link_locations = htmlSource.split('href=\"')[1:]\n",
    "    for link in vivino_link_locations:\n",
    "        link = link.split('</a>')[0]\n",
    "        vivino_links_names.append(link)\n",
    "    vivino_links_names = [link for link in vivino_links_names if '\"@id\":' in link] \n",
    "    vivino_links_names = list(dict.fromkeys(vivino_links_names))\n",
    "    for link in vivino_links_names:\n",
    "        split = link.split('\"@id\":')\n",
    "        print(split)\n",
    "#        name = link.split('\"')[2]\n",
    "#        vivino_links.append(split)\n",
    "#        vivino_names.append(name)"
   ]
  },
  {
   "cell_type": "code",
   "execution_count": 70,
   "metadata": {},
   "outputs": [
    {
     "ename": "AttributeError",
     "evalue": "'list' object has no attribute 'split'",
     "output_type": "error",
     "traceback": [
      "\u001b[0;31m---------------------------------------------------------------------------\u001b[0m",
      "\u001b[0;31mAttributeError\u001b[0m                            Traceback (most recent call last)",
      "\u001b[0;32m<ipython-input-70-d35bfead3ade>\u001b[0m in \u001b[0;36m<module>\u001b[0;34m\u001b[0m\n\u001b[1;32m      2\u001b[0m \u001b[0;31m#display(vivino_names)\u001b[0m\u001b[0;34m\u001b[0m\u001b[0;34m\u001b[0m\u001b[0;34m\u001b[0m\u001b[0m\n\u001b[1;32m      3\u001b[0m \u001b[0msplitted\u001b[0m \u001b[0;34m=\u001b[0m \u001b[0;34m[\u001b[0m\u001b[0mlink\u001b[0m\u001b[0;34m.\u001b[0m\u001b[0msplit\u001b[0m\u001b[0;34m(\u001b[0m\u001b[0;34m'\"@id\":'\u001b[0m\u001b[0;34m)\u001b[0m \u001b[0;32mfor\u001b[0m \u001b[0mlink\u001b[0m \u001b[0;32min\u001b[0m \u001b[0mvivino_links_names\u001b[0m\u001b[0;34m]\u001b[0m\u001b[0;34m\u001b[0m\u001b[0;34m\u001b[0m\u001b[0m\n\u001b[0;32m----> 4\u001b[0;31m \u001b[0msplitted\u001b[0m \u001b[0;34m=\u001b[0m \u001b[0;34m[\u001b[0m\u001b[0mlink\u001b[0m\u001b[0;34m.\u001b[0m\u001b[0msplit\u001b[0m\u001b[0;34m(\u001b[0m\u001b[0;34m'\"name\":'\u001b[0m\u001b[0;34m)\u001b[0m \u001b[0;32mfor\u001b[0m \u001b[0mlink\u001b[0m \u001b[0;32min\u001b[0m \u001b[0msplitted\u001b[0m\u001b[0;34m]\u001b[0m\u001b[0;34m\u001b[0m\u001b[0;34m\u001b[0m\u001b[0m\n\u001b[0m",
      "\u001b[0;32m<ipython-input-70-d35bfead3ade>\u001b[0m in \u001b[0;36m<listcomp>\u001b[0;34m(.0)\u001b[0m\n\u001b[1;32m      2\u001b[0m \u001b[0;31m#display(vivino_names)\u001b[0m\u001b[0;34m\u001b[0m\u001b[0;34m\u001b[0m\u001b[0;34m\u001b[0m\u001b[0m\n\u001b[1;32m      3\u001b[0m \u001b[0msplitted\u001b[0m \u001b[0;34m=\u001b[0m \u001b[0;34m[\u001b[0m\u001b[0mlink\u001b[0m\u001b[0;34m.\u001b[0m\u001b[0msplit\u001b[0m\u001b[0;34m(\u001b[0m\u001b[0;34m'\"@id\":'\u001b[0m\u001b[0;34m)\u001b[0m \u001b[0;32mfor\u001b[0m \u001b[0mlink\u001b[0m \u001b[0;32min\u001b[0m \u001b[0mvivino_links_names\u001b[0m\u001b[0;34m]\u001b[0m\u001b[0;34m\u001b[0m\u001b[0;34m\u001b[0m\u001b[0m\n\u001b[0;32m----> 4\u001b[0;31m \u001b[0msplitted\u001b[0m \u001b[0;34m=\u001b[0m \u001b[0;34m[\u001b[0m\u001b[0mlink\u001b[0m\u001b[0;34m.\u001b[0m\u001b[0msplit\u001b[0m\u001b[0;34m(\u001b[0m\u001b[0;34m'\"name\":'\u001b[0m\u001b[0;34m)\u001b[0m \u001b[0;32mfor\u001b[0m \u001b[0mlink\u001b[0m \u001b[0;32min\u001b[0m \u001b[0msplitted\u001b[0m\u001b[0;34m]\u001b[0m\u001b[0;34m\u001b[0m\u001b[0;34m\u001b[0m\u001b[0m\n\u001b[0m",
      "\u001b[0;31mAttributeError\u001b[0m: 'list' object has no attribute 'split'"
     ]
    }
   ],
   "source": [
    "#display(vivino_links)\n",
    "#display(vivino_names)\n",
    "splitted = [link.split('\"@id\":') for link in vivino_links_names]\n",
    "splitted = [link.split('\"name\":') for link in splitted]\n"
   ]
  },
  {
   "cell_type": "code",
   "execution_count": null,
   "metadata": {},
   "outputs": [],
   "source": [
    "# step 1: load the webpage we want to scrape in our virtual browser\n",
    "url = 'https://nboard.dk/search'\n",
    "driver = webdriver.Chrome(ChromeDriverManager().install())\n",
    "driver.get(url)\n",
    "\n",
    "\n"
   ]
  },
  {
   "cell_type": "code",
   "execution_count": null,
   "metadata": {},
   "outputs": [],
   "source": [
    "# step 2: scroll down the page to load more profiles\n",
    "import time\n",
    "\n",
    "url = 'https://nboard.dk/search'\n",
    "driver = webdriver.Chrome(ChromeDriverManager().install())\n",
    "driver.get(url)\n",
    "time.sleep(3)\n",
    "\n",
    "lenOfPage = driver.execute_script(\"window.scrollTo(0, document.body.scrollHeight);var lenOfPage=document.body.scrollHeight;return lenOfPage;\")\n",
    "match=False\n",
    "while(match==False):\n",
    "    lastCount = lenOfPage\n",
    "    time.sleep(1)\n",
    "    lenOfPage = driver.execute_script(\"window.scrollTo(0, document.body.scrollHeight);var lenOfPage=document.body.scrollHeight;return lenOfPage;\")\n",
    "    if lastCount==lenOfPage:\n",
    "        match=True"
   ]
  },
  {
   "cell_type": "code",
   "execution_count": null,
   "metadata": {},
   "outputs": [],
   "source": [
    "# step 3: save the soup and keep track of runtime\n",
    "\n",
    "import time\n",
    "from bs4 import BeautifulSoup\n",
    "\n",
    "start_time = time.time()\n",
    "\n",
    "url = 'https://nboard.dk/search'\n",
    "driver = webdriver.Chrome(ChromeDriverManager().install())\n",
    "driver.get(url)\n",
    "\n",
    "time.sleep(3)\n",
    "\n",
    "lenOfPage = driver.execute_script(\"window.scrollTo(0, document.body.scrollHeight);var lenOfPage=document.body.scrollHeight;return lenOfPage;\")\n",
    "match=False\n",
    "while(match==False):\n",
    "    lastCount = lenOfPage\n",
    "    time.sleep(1)\n",
    "    lenOfPage = driver.execute_script(\"window.scrollTo(0, document.body.scrollHeight);var lenOfPage=document.body.scrollHeight;return lenOfPage;\")\n",
    "    if lastCount==lenOfPage:\n",
    "        match=True\n",
    "\n",
    "time.sleep(3)\n",
    "\n",
    "soup = BeautifulSoup(driver.page_source, 'lxml')\n",
    "\n",
    "print(\"--- %s seconds ---\" % round((time.time() - start_time),2))"
   ]
  }
 ],
 "metadata": {
  "kernelspec": {
   "display_name": "Python 3",
   "language": "python",
   "name": "python3"
  },
  "language_info": {
   "codemirror_mode": {
    "name": "ipython",
    "version": 3
   },
   "file_extension": ".py",
   "mimetype": "text/x-python",
   "name": "python",
   "nbconvert_exporter": "python",
   "pygments_lexer": "ipython3",
   "version": "3.7.6"
  }
 },
 "nbformat": 4,
 "nbformat_minor": 4
}
